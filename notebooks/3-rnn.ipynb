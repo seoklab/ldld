{
 "cells": [
  {
   "attachments": {},
   "cell_type": "markdown",
   "metadata": {},
   "source": [
    "## Recurrent Neural Networks (RNN)\n",
    "\n",
    "### GPU selection\n",
    "\n",
    "Select the GPU id to use."
   ]
  },
  {
   "cell_type": "code",
   "execution_count": 1,
   "metadata": {},
   "outputs": [],
   "source": [
    "# Select the right device. Change the number to select a different GPU.\n",
    "# If you have used slurm to request a GPU, just keep this line as it is.\n",
    "device_id = 0"
   ]
  },
  {
   "cell_type": "code",
   "execution_count": 2,
   "metadata": {},
   "outputs": [
    {
     "data": {
      "text/plain": [
       "device(type='cuda', index=0)"
      ]
     },
     "execution_count": 2,
     "metadata": {},
     "output_type": "execute_result"
    }
   ],
   "source": [
    "import torch\n",
    "from torch import cuda\n",
    "from multiprocessing import cpu_count\n",
    "\n",
    "# Automatic device selection\n",
    "if cuda.is_available():\n",
    "    torch.set_num_threads(cpu_count() // cuda.device_count())\n",
    "    device = torch.device(f\"cuda:{device_id}\")\n",
    "else:\n",
    "    torch.set_num_threads(cpu_count())\n",
    "    device = torch.device(\"cpu\")\n",
    "device"
   ]
  },
  {
   "attachments": {},
   "cell_type": "markdown",
   "metadata": {},
   "source": [
    "### Hyperparameters\n",
    "\n",
    "These are the hyperparameters used throughout this chapter. Placed here for\n",
    "easier experiments.\n",
    "\n",
    "There are too many hyperparameters to save as plain variables, so let's group\n",
    "them into one object: the `Params` class. Observe the differences between\n",
    "saving them as a dictionary and as a class instance."
   ]
  },
  {
   "cell_type": "code",
   "execution_count": 3,
   "metadata": {},
   "outputs": [],
   "source": [
    "from typing import Type\n",
    "\n",
    "from torch import nn, optim\n",
    "\n",
    "\n",
    "class Params:\n",
    "    def __init__(self,\n",
    "                 batch_size: int = 128, epochs: int = 20, lr: float = 1e-4,\n",
    "                 embedding_dim: int = 32, hidden_dim: int = 32,\n",
    "                 num_layers: int = 3, dropout: float = 0.2,\n",
    "                 RNN: Type[nn.Module] = nn.GRU,\n",
    "                 pooling: str = \"max\",\n",
    "                 Optimizer: Type[optim.Optimizer] = optim.Adam,\n",
    "                 print_every: int = 4):\n",
    "        self.batch_size = batch_size\n",
    "        self.epochs = epochs\n",
    "        self.embedding_dim = embedding_dim\n",
    "        self.hidden_dim = hidden_dim\n",
    "        self.num_layers = num_layers\n",
    "        self.dropout = dropout\n",
    "        self.RNN = RNN\n",
    "        self.pooling = pooling\n",
    "        self.Optimizer = Optimizer\n",
    "        self.lr = lr\n",
    "        self.print_every = print_every\n",
    "\n",
    "\n",
    "SEED = 42\n",
    "params = Params()"
   ]
  },
  {
   "attachments": {},
   "cell_type": "markdown",
   "metadata": {},
   "source": [
    "### Data preprocessing\n",
    "\n",
    "Now we're going to use a chemistry-oriented dataset: [tdc](https://tdcommons.ai).\n",
    "It is a collection of datasets for drug discovery and is already preprocessed\n",
    "for machine learning. Among the datasets, the `hERG Central` dataset, a part of\n",
    "the `Tox` prediction problem is selected for our task. The set is a collection\n",
    "of molecular structures expressed in SMILES strings and their percent\n",
    "inhibition of the hERG channel. The set is selected because it contains\n",
    "~300,000 molecules, which is a reasonable size for training a deep learning\n",
    "model.\n",
    "\n",
    "Here, our goal is to predict whether the molecule *is a hERG blocker or not**,\n",
    "i.e., a binary classification problem.\n",
    "\n",
    "\\* Whether IC50 of the molecule is less than 10 µM or not."
   ]
  },
  {
   "cell_type": "code",
   "execution_count": 4,
   "metadata": {},
   "outputs": [
    {
     "name": "stderr",
     "output_type": "stream",
     "text": [
      "Found local copy...\n",
      "Loading...\n",
      "Done!\n"
     ]
    }
   ],
   "source": [
    "from tdc.single_pred import Tox\n",
    "from tdc.utils import retrieve_label_name_list\n",
    "\n",
    "label_list = retrieve_label_name_list(\"herg_central\")\n",
    "data = Tox(name='herg_central', label_name=label_list[2])\n",
    "split = data.get_split()"
   ]
  },
  {
   "attachments": {},
   "cell_type": "markdown",
   "metadata": {},
   "source": [
    "What's in the dataset?"
   ]
  },
  {
   "cell_type": "code",
   "execution_count": 5,
   "metadata": {},
   "outputs": [
    {
     "data": {
      "text/plain": [
       "{'train':          Drug_ID                                               Drug  Y\n",
       " 0       26665387        COc1ccc(/C=C2\\SC(=S)N(N3CCOCC3)C2=O)c(OC)c1  0\n",
       " 1       26732361  COc1cc(OC)c2ccc(=O)oc2c1C(CC(=O)N1CCOCC1)c1ccc...  0\n",
       " 2       49735227  COc1cccc(NC(=O)C2C3C=CC4(O3)C2C(=O)N(CCCN2CCCC...  0\n",
       " 3       22413685                            Fc1ccc(Oc2ncccn2)c(F)c1  0\n",
       " 4       24783074     Cc1onc(C(=O)Nc2sc3c(c2C#N)CCCC3)c1[N+](=O)[O-]  0\n",
       " ...          ...                                                ... ..\n",
       " 214820  49824526          COc1ccc(-c2c(-c3ccccc3OC)sc3ccccc23)cc1OC  0\n",
       " 214821  22411411  COC(=O)c1c(NC(=O)CN2CCN(S(=O)(=O)c3ccccc3[N+](...  0\n",
       " 214822   4247425  O=C(Cn1c(=O)n(Cc2ccco2)c(=O)c2cc(Cl)ccc21)NCC1...  0\n",
       " 214823  26728232    CC(=O)CSc1nnc(CN2C(=O)CSc3ccc(C(F)(F)F)cc32)n1C  0\n",
       " 214824  49718253  CCOC(=O)[C@@H]1[C@H]2COc3ccc(Br)cc3[C@H]2N2C(=...  0\n",
       " \n",
       " [214825 rows x 3 columns],\n",
       " 'valid':         Drug_ID                                               Drug  Y\n",
       " 0      85146795  COc1ccc(-c2c(-c3cc(OC)cc(OC)c3)n(C)c3ccc(-c4cc...  0\n",
       " 1      26662044               CCC(=O)N1N=C(c2ccc(Cl)cc2)CC1c1ccco1  0\n",
       " 2      49648442    COc1ccc(-c2noc3c2-c2nc(-c4ccc(Br)cc4)sc2CC3)cc1  0\n",
       " 3      24815923   O=[N+]([O-])c1cccc(-c2ccc3nnc(SCc4ccccn4)n3n2)c1  0\n",
       " 4      49718311  CC(C)Oc1ccc(CN2CCC(n3nccc3NC(=O)CCc3ccccc3)CC2...  1\n",
       " ...         ...                                                ... ..\n",
       " 30684  22405985  COc1cc(/C=C(\\C#N)C(=O)NC2CCCCC2C)ccc1OS(=O)(=O...  0\n",
       " 30685   4257989           CCCOc1ccc(S(=O)(=O)NCCN2CCOCC2)c2ccccc12  0\n",
       " 30686  49649620  CCCOc1ccc(/C(O)=C2\\C(=O)C(=O)N(c3ccccn3)C2c2cc...  0\n",
       " 30687  14729934                          COc1cc2cc(Br)cc(Br)c2nc1C  0\n",
       " 30688  49644065             CN(C)C(=O)N1CCN(c2nc(-c3ccccc3)cs2)CC1  0\n",
       " \n",
       " [30689 rows x 3 columns],\n",
       " 'test':         Drug_ID                                               Drug  Y\n",
       " 0      17508895              Cc1c(C(=O)NCc2ccco2)cccc1[N+](=O)[O-]  0\n",
       " 1      49647072            CC1(C(=O)O)CCC(C(=O)Nc2cccc(F)c2)C1(C)C  0\n",
       " 2      49825891             N=c1oc2ccc(Br)cc2cc1C(=O)NCc1ccc(F)cc1  0\n",
       " 3      49649013          O=C(O)c1cc(-c2ccccc2Cl)n(-c2cccc(Cl)c2)n1  0\n",
       " 4      47195785         COc1cccc(OP(=O)(Nc2ccccc2)Oc2cccc(OC)c2)c1  0\n",
       " ...         ...                                                ... ..\n",
       " 61374  49737086      O=c1ccc(-c2ccc(S(=O)(=O)Nc3ccccc3Cl)o2)n[nH]1  0\n",
       " 61375  22406625            Cc1cc(Br)ccc1SCC(=O)OCC(=O)Nc1ccccc1C#N  0\n",
       " 61376  24821870              COc1ccc(CSC2=CS(=O)(=O)c3ccccc3N2)cc1  0\n",
       " 61377  56463241              O=C(/C=C/C=C/c1ccc2c(c1)OCO2)N1CCCCC1  0\n",
       " 61378   4244597  COc1cccc(-n2nnc3c(=O)n(CC(=O)N4CCCc5ccccc54)cn...  0\n",
       " \n",
       " [61379 rows x 3 columns]}"
      ]
     },
     "execution_count": 5,
     "metadata": {},
     "output_type": "execute_result"
    }
   ],
   "source": [
    "split"
   ]
  },
  {
   "attachments": {},
   "cell_type": "markdown",
   "metadata": {},
   "source": [
    "So the \"split\" is a dictionary of three keys, `train`, `valid`, and `test`.\n",
    "The other two are already familiar with us, but here we have one more set: the\n",
    "`test` set. What is it actually?\n",
    "\n",
    "Before getting to the answer directly, think about why we needed a validation\n",
    "set. What does it validate? Well, the model, of course. More precisely, the set\n",
    "validates the model's ability to generalize. In other words, the validation set\n",
    "*validates* the model's parameters, that the model indeed performs well on the\n",
    "unseen data. That's why the model is trained on the training set and evaluated\n",
    "on the validation set.\n",
    "\n",
    "Now think about the training procedure. We tune the hyperparameters of the model\n",
    "to maximize the performance on the validation set. Did you got the point here?\n",
    "We have a \"test\" set for the model parameters, the validation set, but we don't\n",
    "have one for the *hyperparameters*. That's why we need the test set. We will\n",
    "use it to evaluate the model's performance, with the best hyperparameters\n",
    "(or at least, the best we can get)."
   ]
  },
  {
   "attachments": {},
   "cell_type": "markdown",
   "metadata": {},
   "source": [
    "Next, let's take a closer look at the training set. It is a standard\n",
    "`panadas.DataFrame` object with three columns: PubChem CID of the drug, SMILES\n",
    "string, and the label. The others are also `panadas.DataFrame` objects with the\n",
    "same layout."
   ]
  },
  {
   "cell_type": "code",
   "execution_count": 6,
   "metadata": {},
   "outputs": [
    {
     "data": {
      "text/html": [
       "<div>\n",
       "<style scoped>\n",
       "    .dataframe tbody tr th:only-of-type {\n",
       "        vertical-align: middle;\n",
       "    }\n",
       "\n",
       "    .dataframe tbody tr th {\n",
       "        vertical-align: top;\n",
       "    }\n",
       "\n",
       "    .dataframe thead th {\n",
       "        text-align: right;\n",
       "    }\n",
       "</style>\n",
       "<table border=\"1\" class=\"dataframe\">\n",
       "  <thead>\n",
       "    <tr style=\"text-align: right;\">\n",
       "      <th></th>\n",
       "      <th>Drug_ID</th>\n",
       "      <th>Drug</th>\n",
       "      <th>Y</th>\n",
       "    </tr>\n",
       "  </thead>\n",
       "  <tbody>\n",
       "    <tr>\n",
       "      <th>0</th>\n",
       "      <td>26665387</td>\n",
       "      <td>COc1ccc(/C=C2\\SC(=S)N(N3CCOCC3)C2=O)c(OC)c1</td>\n",
       "      <td>0</td>\n",
       "    </tr>\n",
       "    <tr>\n",
       "      <th>1</th>\n",
       "      <td>26732361</td>\n",
       "      <td>COc1cc(OC)c2ccc(=O)oc2c1C(CC(=O)N1CCOCC1)c1ccc...</td>\n",
       "      <td>0</td>\n",
       "    </tr>\n",
       "    <tr>\n",
       "      <th>2</th>\n",
       "      <td>49735227</td>\n",
       "      <td>COc1cccc(NC(=O)C2C3C=CC4(O3)C2C(=O)N(CCCN2CCCC...</td>\n",
       "      <td>0</td>\n",
       "    </tr>\n",
       "    <tr>\n",
       "      <th>3</th>\n",
       "      <td>22413685</td>\n",
       "      <td>Fc1ccc(Oc2ncccn2)c(F)c1</td>\n",
       "      <td>0</td>\n",
       "    </tr>\n",
       "    <tr>\n",
       "      <th>4</th>\n",
       "      <td>24783074</td>\n",
       "      <td>Cc1onc(C(=O)Nc2sc3c(c2C#N)CCCC3)c1[N+](=O)[O-]</td>\n",
       "      <td>0</td>\n",
       "    </tr>\n",
       "    <tr>\n",
       "      <th>...</th>\n",
       "      <td>...</td>\n",
       "      <td>...</td>\n",
       "      <td>...</td>\n",
       "    </tr>\n",
       "    <tr>\n",
       "      <th>214820</th>\n",
       "      <td>49824526</td>\n",
       "      <td>COc1ccc(-c2c(-c3ccccc3OC)sc3ccccc23)cc1OC</td>\n",
       "      <td>0</td>\n",
       "    </tr>\n",
       "    <tr>\n",
       "      <th>214821</th>\n",
       "      <td>22411411</td>\n",
       "      <td>COC(=O)c1c(NC(=O)CN2CCN(S(=O)(=O)c3ccccc3[N+](...</td>\n",
       "      <td>0</td>\n",
       "    </tr>\n",
       "    <tr>\n",
       "      <th>214822</th>\n",
       "      <td>4247425</td>\n",
       "      <td>O=C(Cn1c(=O)n(Cc2ccco2)c(=O)c2cc(Cl)ccc21)NCC1...</td>\n",
       "      <td>0</td>\n",
       "    </tr>\n",
       "    <tr>\n",
       "      <th>214823</th>\n",
       "      <td>26728232</td>\n",
       "      <td>CC(=O)CSc1nnc(CN2C(=O)CSc3ccc(C(F)(F)F)cc32)n1C</td>\n",
       "      <td>0</td>\n",
       "    </tr>\n",
       "    <tr>\n",
       "      <th>214824</th>\n",
       "      <td>49718253</td>\n",
       "      <td>CCOC(=O)[C@@H]1[C@H]2COc3ccc(Br)cc3[C@H]2N2C(=...</td>\n",
       "      <td>0</td>\n",
       "    </tr>\n",
       "  </tbody>\n",
       "</table>\n",
       "<p>214825 rows × 3 columns</p>\n",
       "</div>"
      ],
      "text/plain": [
       "         Drug_ID                                               Drug  Y\n",
       "0       26665387        COc1ccc(/C=C2\\SC(=S)N(N3CCOCC3)C2=O)c(OC)c1  0\n",
       "1       26732361  COc1cc(OC)c2ccc(=O)oc2c1C(CC(=O)N1CCOCC1)c1ccc...  0\n",
       "2       49735227  COc1cccc(NC(=O)C2C3C=CC4(O3)C2C(=O)N(CCCN2CCCC...  0\n",
       "3       22413685                            Fc1ccc(Oc2ncccn2)c(F)c1  0\n",
       "4       24783074     Cc1onc(C(=O)Nc2sc3c(c2C#N)CCCC3)c1[N+](=O)[O-]  0\n",
       "...          ...                                                ... ..\n",
       "214820  49824526          COc1ccc(-c2c(-c3ccccc3OC)sc3ccccc23)cc1OC  0\n",
       "214821  22411411  COC(=O)c1c(NC(=O)CN2CCN(S(=O)(=O)c3ccccc3[N+](...  0\n",
       "214822   4247425  O=C(Cn1c(=O)n(Cc2ccco2)c(=O)c2cc(Cl)ccc21)NCC1...  0\n",
       "214823  26728232    CC(=O)CSc1nnc(CN2C(=O)CSc3ccc(C(F)(F)F)cc32)n1C  0\n",
       "214824  49718253  CCOC(=O)[C@@H]1[C@H]2COc3ccc(Br)cc3[C@H]2N2C(=...  0\n",
       "\n",
       "[214825 rows x 3 columns]"
      ]
     },
     "execution_count": 6,
     "metadata": {},
     "output_type": "execute_result"
    }
   ],
   "source": [
    "split[\"train\"]"
   ]
  },
  {
   "attachments": {},
   "cell_type": "markdown",
   "metadata": {},
   "source": [
    "As usual, we need to wrap those dataframes with a pytorch `Dataset` class. One\n",
    "thing to note here is that we have to convert the SMILES strings to the standard\n",
    "pytorch `Tensor`s before feeding them into the model. Let's do it here, so that\n",
    "we don't have to convert every time retrieving a sample."
   ]
  },
  {
   "cell_type": "code",
   "execution_count": 7,
   "metadata": {},
   "outputs": [
    {
     "data": {
      "text/plain": [
       "[('c', 3379056),\n",
       " ('C', 2261877),\n",
       " ('(', 1259627),\n",
       " (')', 1259627),\n",
       " ('1', 891209),\n",
       " ('O', 877213),\n",
       " ('=', 650423),\n",
       " ('2', 636321),\n",
       " ('N', 531525),\n",
       " ('n', 352423),\n",
       " ('3', 257828),\n",
       " ('S', 123148),\n",
       " ('[', 103232),\n",
       " (']', 103232),\n",
       " ('-', 84076),\n",
       " ('F', 69489),\n",
       " ('l', 63085),\n",
       " ('/', 60403),\n",
       " ('H', 54053),\n",
       " ('o', 50749),\n",
       " ('4', 49028),\n",
       " ('s', 47252),\n",
       " ('@', 34905),\n",
       " ('+', 23122),\n",
       " ('B', 16051),\n",
       " ('r', 16032),\n",
       " ('#', 14263),\n",
       " ('.', 12118),\n",
       " ('\\\\', 11921),\n",
       " ('5', 4649),\n",
       " ('P', 1229),\n",
       " ('I', 565),\n",
       " ('6', 352),\n",
       " ('a', 178),\n",
       " ('7', 54),\n",
       " ('K', 48),\n",
       " ('A', 36),\n",
       " ('%', 18),\n",
       " ('8', 16),\n",
       " ('9', 10),\n",
       " ('0', 10),\n",
       " ('i', 8),\n",
       " ('g', 4),\n",
       " ('t', 3),\n",
       " ('e', 3),\n",
       " ('M', 2),\n",
       " ('L', 2),\n",
       " ('Z', 1),\n",
       " ('d', 1)]"
      ]
     },
     "execution_count": 7,
     "metadata": {},
     "output_type": "execute_result"
    }
   ],
   "source": [
    "from collections import Counter\n",
    "\n",
    "mapping = Counter(c for smiles in data.entity1 for c in smiles)\n",
    "mapping.most_common()"
   ]
  },
  {
   "attachments": {},
   "cell_type": "markdown",
   "metadata": {},
   "source": [
    "Ok, not bad... But what are `l`, `r`, `a`, etc.? We don't have them in\n",
    "chemistry!\n",
    "\n",
    "The problem here is that each character in the SMILES string is **not** a\n",
    "*token*. We need a more sophisticated tokenizing scheme than the simple for\n",
    "loop. For the task, we need to take a look at the SMILES format specification*,\n",
    "and then implement a tokenizer that can split the SMILES string into a list\n",
    "of tokens.\n",
    "\n",
    "\\* See http://opensmiles.org/opensmiles.html"
   ]
  },
  {
   "cell_type": "code",
   "execution_count": 8,
   "metadata": {},
   "outputs": [
    {
     "data": {
      "text/plain": [
       "[('c', 3379056),\n",
       " ('C', 2198789),\n",
       " ('(', 1259627),\n",
       " (')', 1259627),\n",
       " ('1', 891208),\n",
       " ('O', 877213),\n",
       " ('=', 650423),\n",
       " ('2', 636321),\n",
       " ('N', 531349),\n",
       " ('n', 352422),\n",
       " ('3', 257828),\n",
       " ('S', 123141),\n",
       " ('[', 103232),\n",
       " (']', 103232),\n",
       " ('-', 84076),\n",
       " ('F', 69488),\n",
       " ('Cl', 63085),\n",
       " ('/', 60403),\n",
       " ('H', 54051),\n",
       " ('o', 50748),\n",
       " ('4', 49028),\n",
       " ('s', 47215),\n",
       " ('@', 34905),\n",
       " ('+', 23122),\n",
       " ('Br', 16032),\n",
       " ('#', 14263),\n",
       " ('.', 12118),\n",
       " ('\\\\', 11921),\n",
       " ('5', 4648),\n",
       " ('P', 1226),\n",
       " ('I', 565),\n",
       " ('6', 352),\n",
       " ('Na', 175),\n",
       " ('7', 54),\n",
       " ('K', 48),\n",
       " ('As', 36),\n",
       " ('B', 18),\n",
       " ('%', 18),\n",
       " ('8', 16),\n",
       " ('9', 10),\n",
       " ('0', 10),\n",
       " ('Si', 6),\n",
       " ('Pt', 3),\n",
       " ('Mg', 2),\n",
       " ('Li', 2),\n",
       " ('Hg', 2),\n",
       " ('Ca', 2),\n",
       " ('se', 1),\n",
       " ('Ba', 1),\n",
       " ('Zn', 1),\n",
       " ('Nd', 1),\n",
       " ('Co', 1),\n",
       " ('Fe', 1),\n",
       " ('15', 1),\n",
       " ('Se', 1)]"
      ]
     },
     "execution_count": 8,
     "metadata": {},
     "output_type": "execute_result"
    }
   ],
   "source": [
    "import re\n",
    "\n",
    "# Q) Why do we need Cl and Br first?\n",
    "token_re = re.compile(r\"(\\[[^\\]]+\\]|Cl|Br|[BCNOPSFIbcnops]|.)\")\n",
    "# Q) Why do we need separate rules for \"[A-Z][a-z]*\" and \"[a-z]*\"?\n",
    "#    What would happen if we merge them together into \"[A-Z]?[a-z]*\"?\n",
    "bracket_re = re.compile(r\"(\\d+|[A-Z][a-z]*|[a-z]+|.)\")\n",
    "\n",
    "\n",
    "def smi_to_tok(smiles: str):\n",
    "    for tok in token_re.finditer(smiles):\n",
    "        tok = tok.group()\n",
    "        if tok.startswith(\"[\"):\n",
    "            for t in bracket_re.finditer(tok):\n",
    "                yield t.group()\n",
    "        else:\n",
    "            yield tok\n",
    "\n",
    "\n",
    "mapping = Counter(tok for smiles in data.entity1 for tok in smi_to_tok(smiles))\n",
    "mapping.most_common()"
   ]
  },
  {
   "attachments": {},
   "cell_type": "markdown",
   "metadata": {},
   "source": [
    "Great! Now we made all symbols \"chemical,\" so the next step will be converting\n",
    "them into indices."
   ]
  },
  {
   "cell_type": "code",
   "execution_count": 9,
   "metadata": {},
   "outputs": [],
   "source": [
    "# Q) Why do we start the index from 1?\n",
    "tok_to_idx = {\n",
    "    tok: idx for idx, (tok, _) in enumerate(mapping.most_common(), 1)}"
   ]
  },
  {
   "attachments": {},
   "cell_type": "markdown",
   "metadata": {},
   "source": [
    "Finally we have the dataset class for our model."
   ]
  },
  {
   "cell_type": "code",
   "execution_count": 10,
   "metadata": {},
   "outputs": [],
   "source": [
    "import pandas as pd\n",
    "from torch.utils.data import Dataset, DataLoader\n",
    "\n",
    "\n",
    "class HergCentralDataset(Dataset):\n",
    "    def __init__(self, data: pd.DataFrame):\n",
    "        # Q) Why do we need a list of Tensors, not a 2D Tensor?\n",
    "        self.smiles = [\n",
    "            torch.tensor([tok_to_idx[tok] for tok in smi_to_tok(smiles)])\n",
    "            for smiles in data[\"Drug\"]]\n",
    "        self.y = torch.tensor(data[\"Y\"].values, dtype=torch.long)\n",
    "\n",
    "    def __len__(self):\n",
    "        return len(self.smiles)\n",
    "\n",
    "    def __getitem__(self, idx):\n",
    "        x = self.smiles[idx]\n",
    "        y = self.y[idx]\n",
    "        return x, y"
   ]
  },
  {
   "attachments": {},
   "cell_type": "markdown",
   "metadata": {},
   "source": [
    "And the actual datasets for future use."
   ]
  },
  {
   "cell_type": "code",
   "execution_count": 11,
   "metadata": {},
   "outputs": [],
   "source": [
    "datasets = {k: HergCentralDataset(v) for k, v in split.items()}"
   ]
  },
  {
   "attachments": {},
   "cell_type": "markdown",
   "metadata": {},
   "source": [
    "### RNN model\n",
    "\n",
    "The SMILES strings are basically a sequence of tokens, so it is natural to use a\n",
    "model that could handle a sequence: *RNN*s. RNNs, or the Recurrent Neural\n",
    "Networks, are designed to handle sequential data. The basic idea is that the\n",
    "model has a *memory* that stores the information about the previous inputs.\n",
    "\n",
    "The memory is implemented as a hidden state, which is a vector of numbers. The\n",
    "hidden state is updated at each time step, and the model's output is also\n",
    "calculated at each time step. The hidden state is initialized with zeros (or\n",
    "with random values) at the beginning of the sequence, and the output is\n",
    "calculated at the end of the sequence. The hidden state is also used as the\n",
    "input for the next time step.\n",
    "\n",
    "#### Main model\n",
    "\n",
    "So, this is our main model."
   ]
  },
  {
   "cell_type": "code",
   "execution_count": 12,
   "metadata": {},
   "outputs": [],
   "source": [
    "class RNN(nn.Module):\n",
    "    def __init__(self, params: Params):\n",
    "        super().__init__()\n",
    "        self.params = params\n",
    "\n",
    "        if self.params.num_layers < 1:\n",
    "            raise ValueError(\"num_layers must be >= 1\")\n",
    "\n",
    "        # Embedding layer\n",
    "        self.embedding = nn.Embedding(\n",
    "            len(tok_to_idx) + 1, self.params.embedding_dim)\n",
    "\n",
    "        # RNN layers\n",
    "        self.middle = self.params.RNN(\n",
    "            self.params.embedding_dim, self.params.hidden_dim,\n",
    "            num_layers=self.params.num_layers,\n",
    "            dropout=self.params.dropout)\n",
    "\n",
    "        # All pooling functions make (L, N, hidden_dim) -> (N, hidden_dim)\n",
    "        if self.params.pooling == \"sum\":\n",
    "            def pooling(x: torch.Tensor):\n",
    "                return x.sum(dim=0)\n",
    "        elif self.params.pooling == \"mean\":\n",
    "            def pooling(x: torch.Tensor):\n",
    "                return x.mean(dim=0)\n",
    "        elif self.params.pooling == \"max\":\n",
    "            def pooling(x: torch.Tensor):\n",
    "                return x.max(dim=0)[0]\n",
    "        elif self.params.pooling == \"last\":\n",
    "            def pooling(x: torch.Tensor):\n",
    "                return x[-1]\n",
    "        else:\n",
    "            raise ValueError(f\"Unknown pooling: {self.params.pooling}\")\n",
    "\n",
    "        self.pooling = pooling\n",
    "\n",
    "        # Linear projection to the output\n",
    "        # Q) Why do we need 2 outputs?\n",
    "        self.out = nn.Linear(self.params.hidden_dim, 2)\n",
    "\n",
    "    def forward(self, X: torch.Tensor):\n",
    "        # Shape: (L, N) -> (L, N, embedding_dim)\n",
    "        h = self.embedding(X)\n",
    "        # Shape: (L, N, embedding_dim) -> (L, N, hidden_dim)\n",
    "        h, _ = self.middle(h)\n",
    "        # Shape: (L, N, hidden_dim) -> (N, hidden_dim)\n",
    "        h = self.pooling(h)\n",
    "        # Shape: (N, hidden_dim) -> (N, 2)\n",
    "        y_hat = self.out(h)\n",
    "        return y_hat"
   ]
  },
  {
   "attachments": {},
   "cell_type": "markdown",
   "metadata": {},
   "source": [
    "### Training and validation code\n",
    "\n",
    "They are mostly imported from the previous chapter. Still, there are some\n",
    "significant changes."
   ]
  },
  {
   "cell_type": "code",
   "execution_count": 13,
   "metadata": {},
   "outputs": [],
   "source": [
    "from torch.nn import functional as F\n",
    "from tqdm import tqdm, trange\n",
    "\n",
    "\n",
    "class Callbacks:\n",
    "    def __init__(self, model: nn.Module):\n",
    "        self.model = model\n",
    "\n",
    "    def on_epoch_begin(self):\n",
    "        pass\n",
    "\n",
    "    def on_batch_begin(self):\n",
    "        pass\n",
    "\n",
    "    def on_batch_end(self, loss: torch.Tensor):\n",
    "        pass\n",
    "\n",
    "\n",
    "class TrainingCallback(Callbacks):\n",
    "    def __init__(self, model: nn.Module, optim: torch.optim.Optimizer):\n",
    "        super().__init__(model)\n",
    "        self.optim = optim\n",
    "\n",
    "    def on_epoch_begin(self):\n",
    "        self.model.train()\n",
    "\n",
    "    def on_batch_begin(self):\n",
    "        self.optim.zero_grad()\n",
    "\n",
    "    def on_batch_end(self, loss: torch.Tensor):\n",
    "        loss.backward()\n",
    "        self.optim.step()\n",
    "\n",
    "\n",
    "class ValidationCallback(Callbacks):\n",
    "    def on_epoch_begin(self):\n",
    "        self.model.eval()\n",
    "\n",
    "\n",
    "@torch.no_grad()\n",
    "def accuracy(y_hat: torch.Tensor, y: torch.Tensor):\n",
    "    return (y_hat.argmax(dim=1) == y).float().mean()\n",
    "\n",
    "\n",
    "def run(model: nn.Module, criterion: nn.Module,\n",
    "        loader: DataLoader, callbacks: Callbacks):\n",
    "    callbacks.on_epoch_begin()\n",
    "\n",
    "    epoch_loss = []\n",
    "    epoch_accu = []\n",
    "\n",
    "    for x, y in loader:\n",
    "        callbacks.on_batch_begin()\n",
    "\n",
    "        # Here, we move the tensors to a GPU one batch at a time (if available).\n",
    "        # It is indeed slower than moving the entire dataset to the GPU at once,\n",
    "        # but it's also much more memory efficient.\n",
    "        # For larger models with larger datasets, this is a good trade-off.\n",
    "        # We want good models that might take long time to train, not bad\n",
    "        # models that train fast.\n",
    "        x = x.to(device)\n",
    "        y = y.to(device)\n",
    "\n",
    "        # Shape: (L, N) -> (N, 2)\n",
    "        y_hat = model(x)\n",
    "        # calculate loss\n",
    "        loss = criterion(y_hat, y)\n",
    "\n",
    "        callbacks.on_batch_end(loss)\n",
    "        epoch_loss.append(loss.item())\n",
    "        epoch_accu.append(accuracy(y_hat, y))\n",
    "\n",
    "    return (torch.tensor(epoch_loss).mean().item(),\n",
    "            torch.tensor(epoch_accu).mean().item())\n",
    "\n",
    "\n",
    "def train(model: nn.Module, criterion: nn.Module,\n",
    "          loader: DataLoader, optimizer: optim.Optimizer):\n",
    "    callbacks = TrainingCallback(model, optimizer)\n",
    "    return run(model, criterion, loader, callbacks)\n",
    "\n",
    "\n",
    "@torch.no_grad()\n",
    "def validate(model: nn.Module, criterion: nn.Module, loader: DataLoader):\n",
    "    callbacks = ValidationCallback(model)\n",
    "    return run(model, criterion, loader, callbacks)\n",
    "\n",
    "\n",
    "def train_rnn(model: RNN, criterion: nn.Module, train_loader, valid_loader):\n",
    "    optimizer = params.Optimizer(model.parameters(), lr=params.lr)\n",
    "    stats = []\n",
    "\n",
    "    for epoch in trange(1, params.epochs + 1):\n",
    "        train_loss, train_accu = train(\n",
    "            model, criterion, train_loader, optimizer)\n",
    "        valid_loss, valid_accu = validate(model, criterion, valid_loader)\n",
    "\n",
    "        if not epoch % params.print_every or epoch in (1, params.epochs):\n",
    "            tqdm.write((f\"{train_loss = :.4f}, {train_accu = :.2%}, \"\n",
    "                        f\"{valid_loss = :.4f}, {valid_accu = :.2%}\"))\n",
    "\n",
    "        stats.append((epoch, train_loss, train_accu, valid_loss, valid_accu))\n",
    "\n",
    "    stats = pd.DataFrame.from_records(stats, columns=[\n",
    "        \"epoch\", \"train_loss\", \"train_accu\", \"valid_loss\", \"valid_accu\"])\n",
    "    return stats"
   ]
  },
  {
   "attachments": {},
   "cell_type": "markdown",
   "metadata": {},
   "source": [
    "And here are some utility functions, also imported from the previous chapter:"
   ]
  },
  {
   "cell_type": "code",
   "execution_count": 14,
   "metadata": {},
   "outputs": [],
   "source": [
    "import random\n",
    "\n",
    "import numpy as np\n",
    "import seaborn as sns\n",
    "from matplotlib import pyplot as plt\n",
    "\n",
    "sns.set_theme(style=\"whitegrid\", palette=\"muted\")\n",
    "\n",
    "\n",
    "def seed_everything(seed=SEED):\n",
    "    \"\"\"Seed all the random number generators for reproducibility.\"\"\"\n",
    "    random.seed(seed)\n",
    "    np.random.seed(seed)\n",
    "    torch.manual_seed(seed)\n",
    "\n",
    "\n",
    "def to_dataloader(dataset: HergCentralDataset, shuffle: bool):\n",
    "    return DataLoader(dataset, params.batch_size,\n",
    "                      shuffle=shuffle,\n",
    "                      generator=torch.Generator().manual_seed(SEED))\n",
    "\n",
    "\n",
    "def get_dataloaders():\n",
    "    return (to_dataloader(v, k == \"train\") for k, v in datasets.items())\n",
    "\n",
    "\n",
    "def print_model_summary(model: nn.Module):\n",
    "    param_cnt = sum(param.numel()\n",
    "                    for param in model.parameters() if param.requires_grad)\n",
    "\n",
    "    print(model)\n",
    "    print(f\"Model has {param_cnt:,} trainable parameters\")\n",
    "\n",
    "\n",
    "def plot_stats(stats: pd.DataFrame):\n",
    "    stats_long = stats.melt(\n",
    "        id_vars=\"epoch\", var_name=\"type\", value_name=\"stat\")\n",
    "    stats_long[\"run\"] = [tp.split(\"_\")[0] for tp in stats_long[\"type\"]]\n",
    "    stats_long[\"type\"] = [tp.split(\"_\")[1] for tp in stats_long[\"type\"]]\n",
    "\n",
    "    epochs = params.epochs\n",
    "    fg = sns.relplot(x=\"epoch\", y=\"stat\", data=stats_long,\n",
    "                     hue=\"run\", col=\"type\", marker=\"o\", kind=\"line\",\n",
    "                     facet_kws={\"sharey\": False, \"xlim\": (1, epochs + 1)})\n",
    "    xticks = list(range(1, epochs + 1, params.print_every))\n",
    "    if epochs != xticks[-1]:\n",
    "        xticks.append(epochs)\n",
    "    fg.set(xticks=xticks)\n",
    "    plt.show()"
   ]
  },
  {
   "attachments": {},
   "cell_type": "markdown",
   "metadata": {},
   "source": [
    "### Model training and hyperparameter optimization: first try\n",
    "\n",
    "Now we're ready to train the model. Let's try!"
   ]
  },
  {
   "cell_type": "code",
   "execution_count": 15,
   "metadata": {},
   "outputs": [
    {
     "name": "stdout",
     "output_type": "stream",
     "text": [
      "RNN(\n",
      "  (embedding): Embedding(56, 32)\n",
      "  (middle): GRU(32, 32, num_layers=3, dropout=0.2)\n",
      "  (out): Linear(in_features=32, out_features=2, bias=True)\n",
      ")\n",
      "Model has 20,866 trainable parameters\n"
     ]
    },
    {
     "name": "stderr",
     "output_type": "stream",
     "text": [
      "  0%|          | 0/20 [00:00<?, ?it/s]\n"
     ]
    },
    {
     "ename": "RuntimeError",
     "evalue": "stack expects each tensor to be equal size, but got [31] at entry 0 and [63] at entry 1",
     "output_type": "error",
     "traceback": [
      "\u001b[0;31m---------------------------------------------------------------------------\u001b[0m",
      "\u001b[0;31mRuntimeError\u001b[0m                              Traceback (most recent call last)",
      "Cell \u001b[0;32mIn[15], line 18\u001b[0m\n\u001b[1;32m     13\u001b[0m     plot_stats(stats)\n\u001b[1;32m     15\u001b[0m     \u001b[39mreturn\u001b[39;00m model\n\u001b[0;32m---> 18\u001b[0m model \u001b[39m=\u001b[39m main()\n",
      "Cell \u001b[0;32mIn[15], line 12\u001b[0m, in \u001b[0;36mmain\u001b[0;34m()\u001b[0m\n\u001b[1;32m      9\u001b[0m \u001b[39m# Visualize the model\u001b[39;00m\n\u001b[1;32m     10\u001b[0m print_model_summary(model)\n\u001b[0;32m---> 12\u001b[0m stats \u001b[39m=\u001b[39m train_rnn(model, criterion, train_loader, valid_loader)\n\u001b[1;32m     13\u001b[0m plot_stats(stats)\n\u001b[1;32m     15\u001b[0m \u001b[39mreturn\u001b[39;00m model\n",
      "Cell \u001b[0;32mIn[13], line 94\u001b[0m, in \u001b[0;36mtrain_rnn\u001b[0;34m(model, criterion, train_loader, valid_loader)\u001b[0m\n\u001b[1;32m     91\u001b[0m stats \u001b[39m=\u001b[39m []\n\u001b[1;32m     93\u001b[0m \u001b[39mfor\u001b[39;00m epoch \u001b[39min\u001b[39;00m trange(\u001b[39m1\u001b[39m, params\u001b[39m.\u001b[39mepochs \u001b[39m+\u001b[39m \u001b[39m1\u001b[39m):\n\u001b[0;32m---> 94\u001b[0m     train_loss, train_accu \u001b[39m=\u001b[39m train(\n\u001b[1;32m     95\u001b[0m         model, criterion, train_loader, optimizer)\n\u001b[1;32m     96\u001b[0m     valid_loss, valid_accu \u001b[39m=\u001b[39m validate(model, criterion, valid_loader)\n\u001b[1;32m     98\u001b[0m     \u001b[39mif\u001b[39;00m \u001b[39mnot\u001b[39;00m epoch \u001b[39m%\u001b[39m params\u001b[39m.\u001b[39mprint_every \u001b[39mor\u001b[39;00m epoch \u001b[39min\u001b[39;00m (\u001b[39m1\u001b[39m, params\u001b[39m.\u001b[39mepochs):\n",
      "Cell \u001b[0;32mIn[13], line 80\u001b[0m, in \u001b[0;36mtrain\u001b[0;34m(model, criterion, loader, optimizer)\u001b[0m\n\u001b[1;32m     77\u001b[0m \u001b[39mdef\u001b[39;00m \u001b[39mtrain\u001b[39m(model: nn\u001b[39m.\u001b[39mModule, criterion: nn\u001b[39m.\u001b[39mModule,\n\u001b[1;32m     78\u001b[0m           loader: DataLoader, optimizer: optim\u001b[39m.\u001b[39mOptimizer):\n\u001b[1;32m     79\u001b[0m     callbacks \u001b[39m=\u001b[39m TrainingCallback(model, optimizer)\n\u001b[0;32m---> 80\u001b[0m     \u001b[39mreturn\u001b[39;00m run(model, criterion, loader, callbacks)\n",
      "Cell \u001b[0;32mIn[13], line 52\u001b[0m, in \u001b[0;36mrun\u001b[0;34m(model, criterion, loader, callbacks)\u001b[0m\n\u001b[1;32m     49\u001b[0m epoch_loss \u001b[39m=\u001b[39m []\n\u001b[1;32m     50\u001b[0m epoch_accu \u001b[39m=\u001b[39m []\n\u001b[0;32m---> 52\u001b[0m \u001b[39mfor\u001b[39;00m x, y \u001b[39min\u001b[39;00m loader:\n\u001b[1;32m     53\u001b[0m     callbacks\u001b[39m.\u001b[39mon_batch_begin()\n\u001b[1;32m     55\u001b[0m     \u001b[39m# Here, we move the tensors to a GPU one batch at a time (if available).\u001b[39;00m\n\u001b[1;32m     56\u001b[0m     \u001b[39m# It is indeed slower than moving the entire dataset to the GPU at once,\u001b[39;00m\n\u001b[1;32m     57\u001b[0m     \u001b[39m# but it's also much more memory efficient.\u001b[39;00m\n\u001b[1;32m     58\u001b[0m     \u001b[39m# For larger models with larger datasets, this is a good trade-off.\u001b[39;00m\n\u001b[1;32m     59\u001b[0m     \u001b[39m# We want good models that might take long time to train, not bad\u001b[39;00m\n\u001b[1;32m     60\u001b[0m     \u001b[39m# models that train fast.\u001b[39;00m\n",
      "File \u001b[0;32m~/anaconda3/envs/ldld/lib/python3.10/site-packages/torch/utils/data/dataloader.py:628\u001b[0m, in \u001b[0;36m_BaseDataLoaderIter.__next__\u001b[0;34m(self)\u001b[0m\n\u001b[1;32m    625\u001b[0m \u001b[39mif\u001b[39;00m \u001b[39mself\u001b[39m\u001b[39m.\u001b[39m_sampler_iter \u001b[39mis\u001b[39;00m \u001b[39mNone\u001b[39;00m:\n\u001b[1;32m    626\u001b[0m     \u001b[39m# TODO(https://github.com/pytorch/pytorch/issues/76750)\u001b[39;00m\n\u001b[1;32m    627\u001b[0m     \u001b[39mself\u001b[39m\u001b[39m.\u001b[39m_reset()  \u001b[39m# type: ignore[call-arg]\u001b[39;00m\n\u001b[0;32m--> 628\u001b[0m data \u001b[39m=\u001b[39m \u001b[39mself\u001b[39;49m\u001b[39m.\u001b[39;49m_next_data()\n\u001b[1;32m    629\u001b[0m \u001b[39mself\u001b[39m\u001b[39m.\u001b[39m_num_yielded \u001b[39m+\u001b[39m\u001b[39m=\u001b[39m \u001b[39m1\u001b[39m\n\u001b[1;32m    630\u001b[0m \u001b[39mif\u001b[39;00m \u001b[39mself\u001b[39m\u001b[39m.\u001b[39m_dataset_kind \u001b[39m==\u001b[39m _DatasetKind\u001b[39m.\u001b[39mIterable \u001b[39mand\u001b[39;00m \\\n\u001b[1;32m    631\u001b[0m         \u001b[39mself\u001b[39m\u001b[39m.\u001b[39m_IterableDataset_len_called \u001b[39mis\u001b[39;00m \u001b[39mnot\u001b[39;00m \u001b[39mNone\u001b[39;00m \u001b[39mand\u001b[39;00m \\\n\u001b[1;32m    632\u001b[0m         \u001b[39mself\u001b[39m\u001b[39m.\u001b[39m_num_yielded \u001b[39m>\u001b[39m \u001b[39mself\u001b[39m\u001b[39m.\u001b[39m_IterableDataset_len_called:\n",
      "File \u001b[0;32m~/anaconda3/envs/ldld/lib/python3.10/site-packages/torch/utils/data/dataloader.py:671\u001b[0m, in \u001b[0;36m_SingleProcessDataLoaderIter._next_data\u001b[0;34m(self)\u001b[0m\n\u001b[1;32m    669\u001b[0m \u001b[39mdef\u001b[39;00m \u001b[39m_next_data\u001b[39m(\u001b[39mself\u001b[39m):\n\u001b[1;32m    670\u001b[0m     index \u001b[39m=\u001b[39m \u001b[39mself\u001b[39m\u001b[39m.\u001b[39m_next_index()  \u001b[39m# may raise StopIteration\u001b[39;00m\n\u001b[0;32m--> 671\u001b[0m     data \u001b[39m=\u001b[39m \u001b[39mself\u001b[39;49m\u001b[39m.\u001b[39;49m_dataset_fetcher\u001b[39m.\u001b[39;49mfetch(index)  \u001b[39m# may raise StopIteration\u001b[39;00m\n\u001b[1;32m    672\u001b[0m     \u001b[39mif\u001b[39;00m \u001b[39mself\u001b[39m\u001b[39m.\u001b[39m_pin_memory:\n\u001b[1;32m    673\u001b[0m         data \u001b[39m=\u001b[39m _utils\u001b[39m.\u001b[39mpin_memory\u001b[39m.\u001b[39mpin_memory(data, \u001b[39mself\u001b[39m\u001b[39m.\u001b[39m_pin_memory_device)\n",
      "File \u001b[0;32m~/anaconda3/envs/ldld/lib/python3.10/site-packages/torch/utils/data/_utils/fetch.py:61\u001b[0m, in \u001b[0;36m_MapDatasetFetcher.fetch\u001b[0;34m(self, possibly_batched_index)\u001b[0m\n\u001b[1;32m     59\u001b[0m \u001b[39melse\u001b[39;00m:\n\u001b[1;32m     60\u001b[0m     data \u001b[39m=\u001b[39m \u001b[39mself\u001b[39m\u001b[39m.\u001b[39mdataset[possibly_batched_index]\n\u001b[0;32m---> 61\u001b[0m \u001b[39mreturn\u001b[39;00m \u001b[39mself\u001b[39;49m\u001b[39m.\u001b[39;49mcollate_fn(data)\n",
      "File \u001b[0;32m~/anaconda3/envs/ldld/lib/python3.10/site-packages/torch/utils/data/_utils/collate.py:265\u001b[0m, in \u001b[0;36mdefault_collate\u001b[0;34m(batch)\u001b[0m\n\u001b[1;32m    204\u001b[0m \u001b[39mdef\u001b[39;00m \u001b[39mdefault_collate\u001b[39m(batch):\n\u001b[1;32m    205\u001b[0m \u001b[39m    \u001b[39m\u001b[39mr\u001b[39m\u001b[39m\"\"\"\u001b[39;00m\n\u001b[1;32m    206\u001b[0m \u001b[39m        Function that takes in a batch of data and puts the elements within the batch\u001b[39;00m\n\u001b[1;32m    207\u001b[0m \u001b[39m        into a tensor with an additional outer dimension - batch size. The exact output type can be\u001b[39;00m\n\u001b[0;32m   (...)\u001b[0m\n\u001b[1;32m    263\u001b[0m \u001b[39m            >>> default_collate(batch)  # Handle `CustomType` automatically\u001b[39;00m\n\u001b[1;32m    264\u001b[0m \u001b[39m    \"\"\"\u001b[39;00m\n\u001b[0;32m--> 265\u001b[0m     \u001b[39mreturn\u001b[39;00m collate(batch, collate_fn_map\u001b[39m=\u001b[39;49mdefault_collate_fn_map)\n",
      "File \u001b[0;32m~/anaconda3/envs/ldld/lib/python3.10/site-packages/torch/utils/data/_utils/collate.py:143\u001b[0m, in \u001b[0;36mcollate\u001b[0;34m(batch, collate_fn_map)\u001b[0m\n\u001b[1;32m    140\u001b[0m transposed \u001b[39m=\u001b[39m \u001b[39mlist\u001b[39m(\u001b[39mzip\u001b[39m(\u001b[39m*\u001b[39mbatch))  \u001b[39m# It may be accessed twice, so we use a list.\u001b[39;00m\n\u001b[1;32m    142\u001b[0m \u001b[39mif\u001b[39;00m \u001b[39misinstance\u001b[39m(elem, \u001b[39mtuple\u001b[39m):\n\u001b[0;32m--> 143\u001b[0m     \u001b[39mreturn\u001b[39;00m [collate(samples, collate_fn_map\u001b[39m=\u001b[39mcollate_fn_map) \u001b[39mfor\u001b[39;00m samples \u001b[39min\u001b[39;00m transposed]  \u001b[39m# Backwards compatibility.\u001b[39;00m\n\u001b[1;32m    144\u001b[0m \u001b[39melse\u001b[39;00m:\n\u001b[1;32m    145\u001b[0m     \u001b[39mtry\u001b[39;00m:\n",
      "File \u001b[0;32m~/anaconda3/envs/ldld/lib/python3.10/site-packages/torch/utils/data/_utils/collate.py:143\u001b[0m, in \u001b[0;36m<listcomp>\u001b[0;34m(.0)\u001b[0m\n\u001b[1;32m    140\u001b[0m transposed \u001b[39m=\u001b[39m \u001b[39mlist\u001b[39m(\u001b[39mzip\u001b[39m(\u001b[39m*\u001b[39mbatch))  \u001b[39m# It may be accessed twice, so we use a list.\u001b[39;00m\n\u001b[1;32m    142\u001b[0m \u001b[39mif\u001b[39;00m \u001b[39misinstance\u001b[39m(elem, \u001b[39mtuple\u001b[39m):\n\u001b[0;32m--> 143\u001b[0m     \u001b[39mreturn\u001b[39;00m [collate(samples, collate_fn_map\u001b[39m=\u001b[39;49mcollate_fn_map) \u001b[39mfor\u001b[39;00m samples \u001b[39min\u001b[39;00m transposed]  \u001b[39m# Backwards compatibility.\u001b[39;00m\n\u001b[1;32m    144\u001b[0m \u001b[39melse\u001b[39;00m:\n\u001b[1;32m    145\u001b[0m     \u001b[39mtry\u001b[39;00m:\n",
      "File \u001b[0;32m~/anaconda3/envs/ldld/lib/python3.10/site-packages/torch/utils/data/_utils/collate.py:120\u001b[0m, in \u001b[0;36mcollate\u001b[0;34m(batch, collate_fn_map)\u001b[0m\n\u001b[1;32m    118\u001b[0m \u001b[39mif\u001b[39;00m collate_fn_map \u001b[39mis\u001b[39;00m \u001b[39mnot\u001b[39;00m \u001b[39mNone\u001b[39;00m:\n\u001b[1;32m    119\u001b[0m     \u001b[39mif\u001b[39;00m elem_type \u001b[39min\u001b[39;00m collate_fn_map:\n\u001b[0;32m--> 120\u001b[0m         \u001b[39mreturn\u001b[39;00m collate_fn_map[elem_type](batch, collate_fn_map\u001b[39m=\u001b[39;49mcollate_fn_map)\n\u001b[1;32m    122\u001b[0m     \u001b[39mfor\u001b[39;00m collate_type \u001b[39min\u001b[39;00m collate_fn_map:\n\u001b[1;32m    123\u001b[0m         \u001b[39mif\u001b[39;00m \u001b[39misinstance\u001b[39m(elem, collate_type):\n",
      "File \u001b[0;32m~/anaconda3/envs/ldld/lib/python3.10/site-packages/torch/utils/data/_utils/collate.py:163\u001b[0m, in \u001b[0;36mcollate_tensor_fn\u001b[0;34m(batch, collate_fn_map)\u001b[0m\n\u001b[1;32m    161\u001b[0m     storage \u001b[39m=\u001b[39m elem\u001b[39m.\u001b[39mstorage()\u001b[39m.\u001b[39m_new_shared(numel, device\u001b[39m=\u001b[39melem\u001b[39m.\u001b[39mdevice)\n\u001b[1;32m    162\u001b[0m     out \u001b[39m=\u001b[39m elem\u001b[39m.\u001b[39mnew(storage)\u001b[39m.\u001b[39mresize_(\u001b[39mlen\u001b[39m(batch), \u001b[39m*\u001b[39m\u001b[39mlist\u001b[39m(elem\u001b[39m.\u001b[39msize()))\n\u001b[0;32m--> 163\u001b[0m \u001b[39mreturn\u001b[39;00m torch\u001b[39m.\u001b[39;49mstack(batch, \u001b[39m0\u001b[39;49m, out\u001b[39m=\u001b[39;49mout)\n",
      "\u001b[0;31mRuntimeError\u001b[0m: stack expects each tensor to be equal size, but got [31] at entry 0 and [63] at entry 1"
     ]
    }
   ],
   "source": [
    "criterion = nn.CrossEntropyLoss()\n",
    "train_loader, valid_loader, test_loader = get_dataloaders()\n",
    "\n",
    "\n",
    "def main():\n",
    "    seed_everything()\n",
    "\n",
    "    model = RNN(params).to(device)\n",
    "    # Visualize the model\n",
    "    print_model_summary(model)\n",
    "\n",
    "    stats = train_rnn(model, criterion, train_loader, valid_loader)\n",
    "    plot_stats(stats)\n",
    "\n",
    "    return model\n",
    "\n",
    "\n",
    "model = main()"
   ]
  },
  {
   "attachments": {},
   "cell_type": "markdown",
   "metadata": {},
   "source": [
    "Something is definitely wrong here. Could you find out what?"
   ]
  },
  {
   "attachments": {},
   "cell_type": "markdown",
   "metadata": {},
   "source": [
    "### Introduction to real-world problems\n",
    "\n",
    "#### Collate function\n",
    "\n",
    "The problem here is that the sequences (SMILES strings) have different lengths.\n",
    "The `DataLoader` class requires that all samples in a batch are of the same\n",
    "length. In the previous chapters, all figures (happened to) had the same size,\n",
    "so we didn't have to worry about it. But in real-world problems like this, the\n",
    "inputs might have different lengths.\n",
    "\n",
    "So we need to *pad* the shorter sequences with some special tokens. Here, we'll\n",
    "use `0` as the padding index, which is the most common choice (now you get why\n",
    "we started the token indices from `1`).\n",
    "\n",
    "The `collate_fn` argument of the `DataLoader` class is responsible for stacking\n",
    "all the batch samples into a single pytorch `Tensor`. The default implementation\n",
    "simply assume all the sample are of the same length, and try to stack them.\n",
    "But here, we need to pad them before stacking, so we need to implement our own."
   ]
  },
  {
   "cell_type": "code",
   "execution_count": 16,
   "metadata": {},
   "outputs": [],
   "source": [
    "from typing import List, Tuple\n",
    "\n",
    "from torch.nn.utils.rnn import pad_sequence\n",
    "\n",
    "\n",
    "def collate_fn(batch: List[Tuple[torch.Tensor, torch.Tensor]]):\n",
    "    # Q) What does this line do?\n",
    "    x, y = zip(*batch)\n",
    "    # Shape: N (L_i, ) sized tensors -> (max(L_i), N)\n",
    "    x = pad_sequence(x)\n",
    "    # Shape: N * (, ) -> (N, )\n",
    "    y = torch.stack(y)\n",
    "    return x, y"
   ]
  },
  {
   "attachments": {},
   "cell_type": "markdown",
   "metadata": {},
   "source": [
    "Now we need to re-define the `to_dataloader` function."
   ]
  },
  {
   "cell_type": "code",
   "execution_count": 17,
   "metadata": {},
   "outputs": [],
   "source": [
    "def to_dataloader(dataset: HergCentralDataset, shuffle: bool):\n",
    "    return DataLoader(dataset, params.batch_size,\n",
    "                      shuffle=shuffle, collate_fn=collate_fn,\n",
    "                      generator=torch.Generator().manual_seed(SEED))"
   ]
  },
  {
   "attachments": {},
   "cell_type": "markdown",
   "metadata": {},
   "source": [
    "Are we done? No, not yet. Since we've padded the sequences, the model should\n",
    "ignore the padding indices. However, the current model assumes every token is\n",
    "valid, and that could lead to incorrect training.\n",
    "\n",
    "Before fixing the model actually, first we need some utility functions."
   ]
  },
  {
   "cell_type": "code",
   "execution_count": 18,
   "metadata": {},
   "outputs": [],
   "source": [
    "def get_mask(X: torch.Tensor):\n",
    "    return X != 0\n",
    "\n",
    "\n",
    "def masked_sum(X: torch.Tensor, mask: torch.Tensor):\n",
    "    return (X * mask).sum(dim=0)\n",
    "\n",
    "\n",
    "def masked_mean(X: torch.Tensor, mask: torch.Tensor):\n",
    "    x_sum = masked_sum(X, mask)\n",
    "    mask_sum = mask.sum(dim=0)\n",
    "    return x_sum / mask_sum\n",
    "\n",
    "\n",
    "def masked_max(X: torch.Tensor, mask: torch.Tensor):\n",
    "    return (X * mask).max(dim=0)[0]\n",
    "\n",
    "\n",
    "def masked_last(X: torch.Tensor, mask: torch.Tensor):\n",
    "    # Q) Why the following line works?\n",
    "    last_idx = mask.sum(dim=0) - 1\n",
    "    return X[last_idx, torch.arange(mask.shape[1], device=X.device)]"
   ]
  },
  {
   "cell_type": "code",
   "execution_count": 19,
   "metadata": {},
   "outputs": [],
   "source": [
    "class RNN(nn.Module):\n",
    "    def __init__(self, params: Params):\n",
    "        super().__init__()\n",
    "        self.params = params\n",
    "\n",
    "        if self.params.num_layers < 1:\n",
    "            raise ValueError(\"num_layers must be >= 1\")\n",
    "\n",
    "        # Embedding layer\n",
    "        self.embedding = nn.Embedding(\n",
    "            len(tok_to_idx) + 1, self.params.embedding_dim)\n",
    "\n",
    "        # RNN layers\n",
    "        self.middle = self.params.RNN(\n",
    "            self.params.embedding_dim, self.params.hidden_dim,\n",
    "            num_layers=self.params.num_layers,\n",
    "            dropout=self.params.dropout)\n",
    "\n",
    "        # All pooling functions make (L, N, hidden_dim) -> (N, hidden_dim)\n",
    "        if self.params.pooling == \"sum\":\n",
    "            self.pooling = masked_sum\n",
    "        elif self.params.pooling == \"mean\":\n",
    "            self.pooling = masked_mean\n",
    "        elif self.params.pooling == \"max\":\n",
    "            self.pooling = masked_max\n",
    "        elif self.params.pooling == \"last\":\n",
    "            self.pooling = masked_last\n",
    "        else:\n",
    "            raise ValueError(f\"Unknown pooling: {self.params.pooling}\")\n",
    "\n",
    "        # Linear projection to the output\n",
    "        self.out = nn.Linear(self.params.hidden_dim, 2)\n",
    "\n",
    "    def forward(self, X: torch.Tensor):\n",
    "        # Q) Why do we unsqueeze the mask?\n",
    "        mask = get_mask(X).unsqueeze_(-1)\n",
    "\n",
    "        # Shape: (L, N) -> (L, N, embedding_dim)\n",
    "        h = self.embedding(X)\n",
    "        # Shape: (L, N, embedding_dim) -> (L, N, hidden_dim)\n",
    "        h, _ = self.middle(h)\n",
    "        # Shape: (L, N, hidden_dim) -> (N, hidden_dim)\n",
    "        h = self.pooling(h, mask)\n",
    "        # Shape: (N, hidden_dim) -> (N, 2)\n",
    "        y_hat = self.out(h)\n",
    "        return y_hat"
   ]
  },
  {
   "attachments": {},
   "cell_type": "markdown",
   "metadata": {},
   "source": [
    "Now we can train the model."
   ]
  },
  {
   "cell_type": "code",
   "execution_count": 20,
   "metadata": {},
   "outputs": [
    {
     "name": "stdout",
     "output_type": "stream",
     "text": [
      "RNN(\n",
      "  (embedding): Embedding(56, 32)\n",
      "  (middle): GRU(32, 32, num_layers=3, dropout=0.2)\n",
      "  (out): Linear(in_features=32, out_features=2, bias=True)\n",
      ")\n",
      "Model has 20,866 trainable parameters\n"
     ]
    },
    {
     "name": "stderr",
     "output_type": "stream",
     "text": [
      "  5%|▌         | 1/20 [00:10<03:17, 10.42s/it]"
     ]
    },
    {
     "name": "stdout",
     "output_type": "stream",
     "text": [
      "train_loss = 0.2559, train_accu = 91.20%, valid_loss = 0.1788, valid_accu = 95.67%\n"
     ]
    },
    {
     "name": "stderr",
     "output_type": "stream",
     "text": [
      " 20%|██        | 4/20 [00:40<02:42, 10.17s/it]"
     ]
    },
    {
     "name": "stdout",
     "output_type": "stream",
     "text": [
      "train_loss = 0.1820, train_accu = 95.49%, valid_loss = 0.1744, valid_accu = 95.66%\n"
     ]
    },
    {
     "name": "stderr",
     "output_type": "stream",
     "text": [
      " 40%|████      | 8/20 [01:21<02:01, 10.17s/it]"
     ]
    },
    {
     "name": "stdout",
     "output_type": "stream",
     "text": [
      "train_loss = 0.1537, train_accu = 95.48%, valid_loss = 0.1499, valid_accu = 95.66%\n"
     ]
    },
    {
     "name": "stderr",
     "output_type": "stream",
     "text": [
      " 60%|██████    | 12/20 [02:01<01:20, 10.11s/it]"
     ]
    },
    {
     "name": "stdout",
     "output_type": "stream",
     "text": [
      "train_loss = 0.1481, train_accu = 95.48%, valid_loss = 0.1479, valid_accu = 95.66%\n"
     ]
    },
    {
     "name": "stderr",
     "output_type": "stream",
     "text": [
      " 80%|████████  | 16/20 [02:42<00:40, 10.07s/it]"
     ]
    },
    {
     "name": "stdout",
     "output_type": "stream",
     "text": [
      "train_loss = 0.1448, train_accu = 95.49%, valid_loss = 0.1434, valid_accu = 95.66%\n"
     ]
    },
    {
     "name": "stderr",
     "output_type": "stream",
     "text": [
      "100%|██████████| 20/20 [03:22<00:00, 10.13s/it]\n"
     ]
    },
    {
     "name": "stdout",
     "output_type": "stream",
     "text": [
      "train_loss = 0.1425, train_accu = 95.50%, valid_loss = 0.1406, valid_accu = 95.65%\n"
     ]
    },
    {
     "data": {
      "image/png": "[encoded data removed]",
      "text/plain": [
       "<Figure size 1091.88x500 with 2 Axes>"
      ]
     },
     "metadata": {},
     "output_type": "display_data"
    }
   ],
   "source": [
    "train_loader, valid_loader, test_loader = get_dataloaders()\n",
    "model = main()"
   ]
  },
  {
   "attachments": {},
   "cell_type": "markdown",
   "metadata": {},
   "source": [
    "#### Imbalanced dataset\n",
    "\n",
    "It seems that the model performs *really* well, but is it really good? Let's\n",
    "take a deeper look into the dataset."
   ]
  },
  {
   "cell_type": "code",
   "execution_count": 21,
   "metadata": {},
   "outputs": [
    {
     "data": {
      "text/plain": [
       "0.04515303298830986"
      ]
     },
     "execution_count": 21,
     "metadata": {},
     "output_type": "execute_result"
    }
   ],
   "source": [
    "datasets[\"train\"].y.float().mean().item()"
   ]
  },
  {
   "attachments": {},
   "cell_type": "markdown",
   "metadata": {},
   "source": [
    "The mean of the labels is around 0.05, which means the dataset is *imbalanced*.\n",
    "In such case, if model predicts all samples as \"not a hERG blocker,\" it would\n",
    "still get a 95% accuracy, and that's what happening here. Let's draw a\n",
    "confusion matrix of the trained model on the validation set."
   ]
  },
  {
   "cell_type": "code",
   "execution_count": 22,
   "metadata": {},
   "outputs": [
    {
     "data": {
      "text/plain": [
       "(array([0, 0, 0, ..., 0, 0, 0]), array([0, 0, 0, ..., 0, 0, 0]))"
      ]
     },
     "execution_count": 22,
     "metadata": {},
     "output_type": "execute_result"
    },
    {
     "data": {
      "image/png": "[encoded data removed]",
      "text/plain": [
       "<Figure size 640x480 with 2 Axes>"
      ]
     },
     "metadata": {},
     "output_type": "display_data"
    }
   ],
   "source": [
    "from sklearn import metrics\n",
    "\n",
    "\n",
    "@torch.no_grad()\n",
    "def draw_confusion_matrix():\n",
    "    model.eval()\n",
    "\n",
    "    y_true = []\n",
    "    y_pred = []\n",
    "    for X, y in valid_loader:\n",
    "        y_true.append(y.numpy())\n",
    "\n",
    "        y_hat = model(X.to(device))\n",
    "        y_pred.append(y_hat.argmax(dim=1).cpu().numpy())\n",
    "\n",
    "    y_true = np.concatenate(y_true)\n",
    "    y_pred = np.concatenate(y_pred)\n",
    "\n",
    "    metrics.ConfusionMatrixDisplay.from_predictions(y_true, y_pred)\n",
    "    return y_true, y_pred\n",
    "\n",
    "\n",
    "y_true, y_pred = draw_confusion_matrix()\n",
    "y_true, y_pred"
   ]
  },
  {
   "attachments": {},
   "cell_type": "markdown",
   "metadata": {},
   "source": [
    "The model indeed predicts almost everything (>99.9%) to be \"not a hERG blocker.\"\n",
    "This is not what we're happy with. An important implication from this result is\n",
    "that you should never blindly trust the numbers that models produce. Always take\n",
    "a look at the details.\n",
    "\n",
    "Well, actually, there *is* another metric that is much more useful than the\n",
    "accuracy for this case: the F1 score. It is defined as the harmonic mean of the\n",
    "precision and recall, and it is more robust to the imbalanced dataset (still,\n",
    "this does not invalidate the claim that we've made in the last paragraph).\n",
    "\n",
    "The model now performs terribly in terms of the F1 score."
   ]
  },
  {
   "cell_type": "code",
   "execution_count": 23,
   "metadata": {},
   "outputs": [
    {
     "data": {
      "text/plain": [
       "0.007451564828614009"
      ]
     },
     "execution_count": 23,
     "metadata": {},
     "output_type": "execute_result"
    }
   ],
   "source": [
    "metrics.f1_score(y_true, y_pred)"
   ]
  },
  {
   "attachments": {},
   "cell_type": "markdown",
   "metadata": {},
   "source": [
    "There are many ways to deal with the imbalanced dataset. One of the most easiest\n",
    "way is to adjust weights of the loss function, so that the model could take\n",
    "account the imbalance. The weights are calculated as the inverse of the class\n",
    "frequencies.\n",
    "\n",
    "Note that we need to have the sum of the weight equal to the count of the\n",
    "classes, so that the loss does not (accidentally) scale down the learning rate."
   ]
  },
  {
   "cell_type": "code",
   "execution_count": 24,
   "metadata": {},
   "outputs": [],
   "source": [
    "train_set = datasets[\"train\"]\n",
    "\n",
    "total = len(train_set)\n",
    "pos_freq = train_set.y.sum().item() / total\n",
    "\n",
    "w = torch.tensor([pos_freq, 1 - pos_freq])\n",
    "w *= len(w)\n",
    "\n",
    "criterion = nn.CrossEntropyLoss(weight=w).to(device)"
   ]
  },
  {
   "attachments": {},
   "cell_type": "markdown",
   "metadata": {},
   "source": [
    "### Model training and hyperparameter optimization: second try\n",
    "\n",
    "Let's see the differences."
   ]
  },
  {
   "cell_type": "code",
   "execution_count": 25,
   "metadata": {},
   "outputs": [
    {
     "name": "stdout",
     "output_type": "stream",
     "text": [
      "RNN(\n",
      "  (embedding): Embedding(56, 32)\n",
      "  (middle): GRU(32, 32, num_layers=3, dropout=0.2)\n",
      "  (out): Linear(in_features=32, out_features=2, bias=True)\n",
      ")\n",
      "Model has 20,866 trainable parameters\n"
     ]
    },
    {
     "name": "stderr",
     "output_type": "stream",
     "text": [
      "  5%|▌         | 1/20 [00:10<03:10, 10.05s/it]"
     ]
    },
    {
     "name": "stdout",
     "output_type": "stream",
     "text": [
      "train_loss = 0.6488, train_accu = 66.66%, valid_loss = 0.5905, valid_accu = 67.71%\n"
     ]
    },
    {
     "name": "stderr",
     "output_type": "stream",
     "text": [
      " 20%|██        | 4/20 [00:40<02:41, 10.11s/it]"
     ]
    },
    {
     "name": "stdout",
     "output_type": "stream",
     "text": [
      "train_loss = 0.5262, train_accu = 77.45%, valid_loss = 0.5240, valid_accu = 76.60%\n"
     ]
    },
    {
     "name": "stderr",
     "output_type": "stream",
     "text": [
      " 40%|████      | 8/20 [01:20<02:00, 10.07s/it]"
     ]
    },
    {
     "name": "stdout",
     "output_type": "stream",
     "text": [
      "train_loss = 0.4984, train_accu = 78.21%, valid_loss = 0.5038, valid_accu = 81.35%\n"
     ]
    },
    {
     "name": "stderr",
     "output_type": "stream",
     "text": [
      " 60%|██████    | 12/20 [02:00<01:20, 10.04s/it]"
     ]
    },
    {
     "name": "stdout",
     "output_type": "stream",
     "text": [
      "train_loss = 0.4858, train_accu = 78.54%, valid_loss = 0.4949, valid_accu = 82.54%\n"
     ]
    },
    {
     "name": "stderr",
     "output_type": "stream",
     "text": [
      " 80%|████████  | 16/20 [02:41<00:40, 10.14s/it]"
     ]
    },
    {
     "name": "stdout",
     "output_type": "stream",
     "text": [
      "train_loss = 0.4767, train_accu = 79.00%, valid_loss = 0.4886, valid_accu = 82.68%\n"
     ]
    },
    {
     "name": "stderr",
     "output_type": "stream",
     "text": [
      "100%|██████████| 20/20 [03:21<00:00, 10.09s/it]\n"
     ]
    },
    {
     "name": "stdout",
     "output_type": "stream",
     "text": [
      "train_loss = 0.4707, train_accu = 79.32%, valid_loss = 0.4799, valid_accu = 81.09%\n"
     ]
    },
    {
     "data": {
      "image/png": "[encoded data removed]",
      "text/plain": [
       "<Figure size 1091.88x500 with 2 Axes>"
      ]
     },
     "metadata": {},
     "output_type": "display_data"
    }
   ],
   "source": [
    "train_loader, valid_loader, test_loader = get_dataloaders()\n",
    "model = main()"
   ]
  },
  {
   "attachments": {},
   "cell_type": "markdown",
   "metadata": {},
   "source": [
    "Yes, the model seems to be performing worse than the previous one in terms of\n",
    "accuracy, but the more important thing here is that the model has now started to\n",
    "consider the \"hERG blocker\" class. Check out the **much** better F1 score.\n",
    "\n",
    "Also, the training loss seems not to be saturated, so this model *might* perform\n",
    "better than the previous one eventually."
   ]
  },
  {
   "cell_type": "code",
   "execution_count": 26,
   "metadata": {},
   "outputs": [
    {
     "data": {
      "text/plain": [
       "(0.20987976147805404, 0.04324024894913487, 0.25308959835221423)"
      ]
     },
     "execution_count": 26,
     "metadata": {},
     "output_type": "execute_result"
    },
    {
     "data": {
      "image/png": "[encoded data removed]",
      "text/plain": [
       "<Figure size 640x480 with 2 Axes>"
      ]
     },
     "metadata": {},
     "output_type": "display_data"
    }
   ],
   "source": [
    "y_true, y_pred = draw_confusion_matrix()\n",
    "y_pred.mean(), y_true.mean(), metrics.f1_score(y_true, y_pred)"
   ]
  },
  {
   "attachments": {},
   "cell_type": "markdown",
   "metadata": {},
   "source": [
    "### Model training and hyperparameter optimization: last try\n",
    "\n",
    "How do we make the model good in both metrics: accuracy and the F1 score? Well,\n",
    "good luck, and it's your turn. This lecture is intended to demonstrate the RNN\n",
    "model with a good quality code, not to provide a complete solution to this\n",
    "problem. So, you need to figure out how to fix the model yourself.\n",
    "\n",
    "Adjusting the hyperparameters at the beginning of this notebook might help.\n",
    "Or you may need to change the model architecture, training procedure, etc. This\n",
    "is the essence of deep learning research: **you figure out how to make the model\n",
    "work**."
   ]
  },
  {
   "cell_type": "code",
   "execution_count": null,
   "metadata": {},
   "outputs": [],
   "source": []
  },
  {
   "attachments": {},
   "cell_type": "markdown",
   "metadata": {},
   "source": [
    "### Model evaluation\n",
    "\n",
    "Once satisfied with the model, you can evaluate the final model on the test set.\n",
    "This is your *score* on this problem. Never be tempted to evaluate the model on\n",
    "the test set beforehand: it's cheating."
   ]
  },
  {
   "cell_type": "code",
   "execution_count": 27,
   "metadata": {},
   "outputs": [
    {
     "data": {
      "text/plain": [
       "(0.47274377942085266, 0.8151201605796814)"
      ]
     },
     "execution_count": 27,
     "metadata": {},
     "output_type": "execute_result"
    }
   ],
   "source": [
    "validate(model, criterion, test_loader)"
   ]
  },
  {
   "attachments": {},
   "cell_type": "markdown",
   "metadata": {},
   "source": [
    "### Summary\n",
    "\n",
    "We have learned about a real-world cheminformatics problem in this chapter.\n",
    "Specifically, we:\n",
    "\n",
    "- Learned about the SMILES format and how to tokenize it.\n",
    "- Could now handle datasets with heterogeneous lengths.\n",
    "- Discussed the imbalanced dataset problem.\n",
    "\n",
    "And most importantly, we have a lesson: **never blindly trust the \"accuracy\" or\n",
    "any other metrics**. Do you really want a model that considers everything,\n",
    "*literally everything*, safe as a drug?"
   ]
  }
 ],
 "metadata": {
  "kernelspec": {
   "display_name": "Python 3 (ipykernel)",
   "language": "python",
   "name": "python3"
  },
  "language_info": {
   "codemirror_mode": {
    "name": "ipython",
    "version": 3
   },
   "file_extension": ".py",
   "mimetype": "text/x-python",
   "name": "python",
   "nbconvert_exporter": "python",
   "pygments_lexer": "ipython3",
   "version": "3.10.8"
  },
  "orig_nbformat": 4
 },
 "nbformat": 4,
 "nbformat_minor": 2
}
